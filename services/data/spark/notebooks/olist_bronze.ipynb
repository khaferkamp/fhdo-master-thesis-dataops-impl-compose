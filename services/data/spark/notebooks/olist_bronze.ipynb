{
 "cells": [
  {
   "cell_type": "markdown",
   "id": "84e05b47",
   "metadata": {},
   "source": [
    "# Olist bronze ingestion"
   ]
  },
  {
   "cell_type": "code",
   "execution_count": 60,
   "id": "832b06f5",
   "metadata": {},
   "outputs": [
    {
     "name": "stdout",
     "output_type": "stream",
     "text": [
      "olist_customers_dataset.csv\n",
      "olist_geolocation_dataset.csv\n",
      "olist_order_items_dataset.csv\n",
      "olist_order_payments_dataset.csv\n",
      "olist_order_reviews_dataset.csv\n",
      "olist_orders_dataset.csv\n",
      "olist_products_dataset.csv\n",
      "olist_sellers_dataset.csv\n",
      "product_category_name_translation.csv\n"
     ]
    }
   ],
   "source": [
    "%%sh\n",
    "\n",
    "ls /var/lib/ngods/stage/olist"
   ]
  },
  {
   "cell_type": "code",
   "execution_count": 61,
   "id": "fdbee403",
   "metadata": {},
   "outputs": [
    {
     "data": {
      "text/html": [
       "<table>\n",
       "    <thead>\n",
       "        <tr>\n",
       "            <th>namespace</th>\n",
       "        </tr>\n",
       "    </thead>\n",
       "    <tbody>\n",
       "        <tr>\n",
       "            <td>bronze</td>\n",
       "        </tr>\n",
       "        <tr>\n",
       "            <td>default</td>\n",
       "        </tr>\n",
       "        <tr>\n",
       "            <td>silver</td>\n",
       "        </tr>\n",
       "    </tbody>\n",
       "</table>"
      ],
      "text/plain": [
       "+-----------+\n",
       "| namespace |\n",
       "+-----------+\n",
       "|    bronze |\n",
       "|   default |\n",
       "|    silver |\n",
       "+-----------+"
      ]
     },
     "execution_count": 61,
     "metadata": {},
     "output_type": "execute_result"
    }
   ],
   "source": [
    "%%sql\n",
    "show databases;"
   ]
  },
  {
   "cell_type": "code",
   "execution_count": 62,
   "id": "3f48d46f",
   "metadata": {},
   "outputs": [
    {
     "data": {
      "text/html": [
       "<table>\n",
       "    <thead>\n",
       "        <tr>\n",
       "        </tr>\n",
       "    </thead>\n",
       "    <tbody>\n",
       "    </tbody>\n",
       "</table>"
      ],
      "text/plain": [
       "++\n",
       "||\n",
       "++\n",
       "++"
      ]
     },
     "execution_count": 62,
     "metadata": {},
     "output_type": "execute_result"
    }
   ],
   "source": [
    "%%sql\n",
    "use database bronze;"
   ]
  },
  {
   "cell_type": "markdown",
   "id": "31223fd0",
   "metadata": {},
   "source": [
    "## Table: customer"
   ]
  },
  {
   "cell_type": "code",
   "execution_count": 63,
   "id": "360f9347",
   "metadata": {},
   "outputs": [],
   "source": [
    "customer_df = (spark\n",
    "     .read\n",
    "     .option(\"header\", \"true\")\n",
    "     .csv(\"/var/lib/ngods/stage/olist/olist_customers_dataset.csv\"))"
   ]
  },
  {
   "cell_type": "code",
   "execution_count": 64,
   "id": "05cae56d",
   "metadata": {},
   "outputs": [
    {
     "name": "stderr",
     "output_type": "stream",
     "text": [
      "                                                                                \r"
     ]
    },
    {
     "data": {
      "text/plain": [
       "DataFrame[summary: string, customer_id: string, customer_unique_id: string, customer_zip_code_prefix: string, customer_city: string, customer_state: string]"
      ]
     },
     "execution_count": 64,
     "metadata": {},
     "output_type": "execute_result"
    }
   ],
   "source": [
    "customer_df.describe()"
   ]
  },
  {
   "cell_type": "code",
   "execution_count": 65,
   "id": "680ba339",
   "metadata": {},
   "outputs": [
    {
     "name": "stdout",
     "output_type": "stream",
     "text": [
      "+--------------------+--------------------+------------------------+--------------------+--------------+\n",
      "|         customer_id|  customer_unique_id|customer_zip_code_prefix|       customer_city|customer_state|\n",
      "+--------------------+--------------------+------------------------+--------------------+--------------+\n",
      "|06b8999e2fba1a1fb...|861eff4711a542e4b...|                   14409|              franca|            SP|\n",
      "|18955e83d337fd6b2...|290c77bc529b7ac93...|                   09790|sao bernardo do c...|            SP|\n",
      "|4e7b3e00288586ebd...|060e732b5b29e8181...|                   01151|           sao paulo|            SP|\n",
      "|b2b6027bc5c5109e5...|259dac757896d24d7...|                   08775|     mogi das cruzes|            SP|\n",
      "|4f2d8ab171c80ec83...|345ecd01c38d18a90...|                   13056|            campinas|            SP|\n",
      "|879864dab9bc30475...|4c93744516667ad3b...|                   89254|      jaragua do sul|            SC|\n",
      "|fd826e7cf63160e53...|addec96d2e059c80c...|                   04534|           sao paulo|            SP|\n",
      "|5e274e7a0c3809e14...|57b2a98a409812fe9...|                   35182|             timoteo|            MG|\n",
      "|5adf08e34b2e99398...|1175e95fb47ddff9d...|                   81560|            curitiba|            PR|\n",
      "|4b7139f34592b3a31...|9afe194fb833f79e3...|                   30575|      belo horizonte|            MG|\n",
      "|9fb35e4ed6f0a14a4...|2a7745e1ed516b289...|                   39400|       montes claros|            MG|\n",
      "|5aa9e4fdd4dfd2095...|2a46fb94aef5cbeeb...|                   20231|      rio de janeiro|            RJ|\n",
      "|b2d1536598b73a9ab...|918dc87cd72cd9f6e...|                   18682|    lencois paulista|            SP|\n",
      "|eabebad39a88bb6f5...|295c05e81917928d7...|                   05704|           sao paulo|            SP|\n",
      "|1f1c7bf1c9b041b29...|3151a81801c838636...|                   95110|       caxias do sul|            RS|\n",
      "|206f3129c0e4d7d0b...|21f748a16f4e1688a...|                   13412|          piracicaba|            SP|\n",
      "|a7c125a0a07b75146...|5c2991dbd08bbf3cf...|                   22750|      rio de janeiro|            RJ|\n",
      "|c5c61596a3b6bd0ce...|b6e99561fe6f34a55...|                   07124|           guarulhos|            SP|\n",
      "|9b8ce803689b3562d...|7f3a72e8f988c6e73...|                   05416|           sao paulo|            SP|\n",
      "|49d0ea0986edde72d...|3e6fd6b2f0d499456...|                   68485|              pacaja|            PA|\n",
      "+--------------------+--------------------+------------------------+--------------------+--------------+\n",
      "only showing top 20 rows\n",
      "\n"
     ]
    }
   ],
   "source": [
    "customer_df.show()"
   ]
  },
  {
   "cell_type": "code",
   "execution_count": 66,
   "id": "654e3871",
   "metadata": {},
   "outputs": [],
   "source": [
    "customer_df.createOrReplaceTempView(\"temp_customer\")"
   ]
  },
  {
   "cell_type": "code",
   "execution_count": 67,
   "id": "51ae4433",
   "metadata": {},
   "outputs": [
    {
     "data": {
      "text/html": [
       "<table>\n",
       "    <thead>\n",
       "        <tr>\n",
       "        </tr>\n",
       "    </thead>\n",
       "    <tbody>\n",
       "    </tbody>\n",
       "</table>"
      ],
      "text/plain": [
       "++\n",
       "||\n",
       "++\n",
       "++"
      ]
     },
     "execution_count": 67,
     "metadata": {},
     "output_type": "execute_result"
    }
   ],
   "source": [
    "%%sql\n",
    "CREATE TABLE IF NOT EXISTS bronze.olist_customer (\n",
    "    customer_id string,\n",
    "    customer_unique_id string,\n",
    "    customer_zip_code_prefix string,\n",
    "    customer_city string,\n",
    "    customer_state string\n",
    ")\n",
    "USING iceberg;"
   ]
  },
  {
   "cell_type": "code",
   "execution_count": 70,
   "id": "b7177d45",
   "metadata": {},
   "outputs": [
    {
     "name": "stderr",
     "output_type": "stream",
     "text": [
      "                                                                                \r"
     ]
    },
    {
     "data": {
      "text/html": [
       "<table>\n",
       "    <thead>\n",
       "        <tr>\n",
       "        </tr>\n",
       "    </thead>\n",
       "    <tbody>\n",
       "    </tbody>\n",
       "</table>"
      ],
      "text/plain": [
       "++\n",
       "||\n",
       "++\n",
       "++"
      ]
     },
     "execution_count": 70,
     "metadata": {},
     "output_type": "execute_result"
    }
   ],
   "source": [
    "%%sql \n",
    "MERGE INTO bronze.olist_customer t\n",
    "USING (\n",
    "    SELECT\n",
    "    customer_id,\n",
    "    customer_unique_id,\n",
    "    customer_zip_code_prefix,\n",
    "    customer_city,\n",
    "    customer_state\n",
    "    FROM temp_customer) s\n",
    "ON t.customer_unique_id = s.customer_unique_id\n",
    "WHEN NOT MATCHED THEN INSERT *"
   ]
  },
  {
   "cell_type": "code",
   "execution_count": 72,
   "id": "42bb2fba",
   "metadata": {},
   "outputs": [
    {
     "data": {
      "text/html": [
       "<table>\n",
       "    <thead>\n",
       "        <tr>\n",
       "            <th>count(1)</th>\n",
       "        </tr>\n",
       "    </thead>\n",
       "    <tbody>\n",
       "        <tr>\n",
       "            <td>99441</td>\n",
       "        </tr>\n",
       "        <tr>\n",
       "            <td>99441</td>\n",
       "        </tr>\n",
       "    </tbody>\n",
       "</table>"
      ],
      "text/plain": [
       "+----------+\n",
       "| count(1) |\n",
       "+----------+\n",
       "|    99441 |\n",
       "|    99441 |\n",
       "+----------+"
      ]
     },
     "execution_count": 72,
     "metadata": {},
     "output_type": "execute_result"
    }
   ],
   "source": [
    "%%sql\n",
    "select count(*) from bronze.olist_customer\n",
    "UNION ALL\n",
    "select count(*) from temp_customer\n",
    ";"
   ]
  },
  {
   "cell_type": "markdown",
   "id": "3936577f",
   "metadata": {},
   "source": [
    "## Table: Geolocation"
   ]
  },
  {
   "cell_type": "code",
   "execution_count": 73,
   "id": "49a5cf8a",
   "metadata": {},
   "outputs": [],
   "source": [
    "geo_df = (spark\n",
    "     .read\n",
    "     .option(\"header\", \"true\")\n",
    "     .csv(\"/var/lib/ngods/stage/olist/olist_geolocation_dataset.csv\"))"
   ]
  },
  {
   "cell_type": "code",
   "execution_count": 74,
   "id": "d98d81ef",
   "metadata": {},
   "outputs": [
    {
     "name": "stderr",
     "output_type": "stream",
     "text": [
      "                                                                                \r"
     ]
    },
    {
     "data": {
      "text/plain": [
       "DataFrame[summary: string, geolocation_zip_code_prefix: string, geolocation_lat: string, geolocation_lng: string, geolocation_city: string, geolocation_state: string]"
      ]
     },
     "execution_count": 74,
     "metadata": {},
     "output_type": "execute_result"
    }
   ],
   "source": [
    "geo_df.describe()"
   ]
  },
  {
   "cell_type": "code",
   "execution_count": 75,
   "id": "ebd05d15",
   "metadata": {},
   "outputs": [
    {
     "name": "stdout",
     "output_type": "stream",
     "text": [
      "+---------------------------+-------------------+-------------------+----------------+-----------------+\n",
      "|geolocation_zip_code_prefix|    geolocation_lat|    geolocation_lng|geolocation_city|geolocation_state|\n",
      "+---------------------------+-------------------+-------------------+----------------+-----------------+\n",
      "|                      01037| -23.54562128115268| -46.63929204800168|       sao paulo|               SP|\n",
      "|                      01046|-23.546081127035535| -46.64482029837157|       sao paulo|               SP|\n",
      "|                      01046| -23.54612896641469| -46.64295148361138|       sao paulo|               SP|\n",
      "|                      01041|  -23.5443921648681| -46.63949930627844|       sao paulo|               SP|\n",
      "|                      01035|-23.541577961711493| -46.64160722329613|       sao paulo|               SP|\n",
      "|                      01012|-23.547762303364266| -46.63536053788448|       são paulo|               SP|\n",
      "|                      01047|-23.546273112412678| -46.64122516971552|       sao paulo|               SP|\n",
      "|                      01013|-23.546923208436723|  -46.6342636964915|       sao paulo|               SP|\n",
      "|                      01029|-23.543769055769133| -46.63427784085132|       sao paulo|               SP|\n",
      "|                      01011|-23.547639550320632| -46.63603162315495|       sao paulo|               SP|\n",
      "|                      01013|-23.547325128224376| -46.63418378613892|       sao paulo|               SP|\n",
      "|                      01032| -23.53841810407414|-46.634778375266734|       sao paulo|               SP|\n",
      "|                      01014|-23.546435343326205| -46.63383023397196|       sao paulo|               SP|\n",
      "|                      01012|-23.548945985189434| -46.63467113292871|       sao paulo|               SP|\n",
      "|                      01037|-23.545187340816042| -46.63785524104107|       são paulo|               SP|\n",
      "|                      01046|-23.546081127035535| -46.64482029837157|       sao paulo|               SP|\n",
      "|                      01039|-23.541883009983316| -46.63991946670314|       sao paulo|               SP|\n",
      "|                      01024|-23.541389521053937|-46.629899087812184|       são paulo|               SP|\n",
      "|                      01009| -23.54693540437998| -46.63658792659698|       sao paulo|               SP|\n",
      "|                      01046|-23.545884279214015|-46.643163191240035|       sao paulo|               SP|\n",
      "+---------------------------+-------------------+-------------------+----------------+-----------------+\n",
      "only showing top 20 rows\n",
      "\n"
     ]
    }
   ],
   "source": [
    "geo_df.show()"
   ]
  },
  {
   "cell_type": "code",
   "execution_count": 77,
   "id": "da5755bd",
   "metadata": {},
   "outputs": [],
   "source": [
    "geo_df.createOrReplaceTempView(\"temp_geo\")"
   ]
  },
  {
   "cell_type": "code",
   "execution_count": 80,
   "id": "8d25e550",
   "metadata": {},
   "outputs": [
    {
     "data": {
      "text/html": [
       "<table>\n",
       "    <thead>\n",
       "        <tr>\n",
       "        </tr>\n",
       "    </thead>\n",
       "    <tbody>\n",
       "    </tbody>\n",
       "</table>"
      ],
      "text/plain": [
       "++\n",
       "||\n",
       "++\n",
       "++"
      ]
     },
     "execution_count": 80,
     "metadata": {},
     "output_type": "execute_result"
    }
   ],
   "source": [
    "%%sql\n",
    "CREATE TABLE IF NOT EXISTS bronze.olist_geolocation (\n",
    "    geolocation_zip_code_prefix string,\n",
    "    geolocation_lat string,\n",
    "    geolocation_lng string,\n",
    "    geolocation_city string,\n",
    "    geolocation_state string\n",
    ")\n",
    "USING iceberg;"
   ]
  },
  {
   "cell_type": "code",
   "execution_count": 81,
   "id": "bcc519c0",
   "metadata": {},
   "outputs": [
    {
     "name": "stderr",
     "output_type": "stream",
     "text": [
      "                                                                                \r"
     ]
    },
    {
     "data": {
      "text/html": [
       "<table>\n",
       "    <thead>\n",
       "        <tr>\n",
       "        </tr>\n",
       "    </thead>\n",
       "    <tbody>\n",
       "    </tbody>\n",
       "</table>"
      ],
      "text/plain": [
       "++\n",
       "||\n",
       "++\n",
       "++"
      ]
     },
     "execution_count": 81,
     "metadata": {},
     "output_type": "execute_result"
    }
   ],
   "source": [
    "%%sql \n",
    "MERGE INTO bronze.olist_geolocation t\n",
    "USING (\n",
    "    SELECT\n",
    "    geolocation_zip_code_prefix,\n",
    "    geolocation_lat,\n",
    "    geolocation_lng,\n",
    "    geolocation_city,\n",
    "    geolocation_state\n",
    "    FROM temp_geo) s\n",
    "ON t.geolocation_zip_code_prefix = s.geolocation_zip_code_prefix\n",
    "AND t.geolocation_lat = s.geolocation_lat\n",
    "AND t.geolocation_lng = s.geolocation_lng\n",
    "AND t.geolocation_city = s.geolocation_city\n",
    "AND t.geolocation_state = s.geolocation_state\n",
    "WHEN NOT MATCHED THEN INSERT *"
   ]
  },
  {
   "cell_type": "markdown",
   "id": "d71d1785",
   "metadata": {},
   "source": [
    "## Table: Order Items"
   ]
  },
  {
   "cell_type": "code",
   "execution_count": 82,
   "id": "5a588f22",
   "metadata": {},
   "outputs": [],
   "source": [
    "order_items_df = (spark\n",
    "     .read\n",
    "     .option(\"header\", \"true\")\n",
    "     .csv(\"/var/lib/ngods/stage/olist/olist_order_items_dataset.csv\"))"
   ]
  },
  {
   "cell_type": "code",
   "execution_count": 83,
   "id": "a7432723",
   "metadata": {},
   "outputs": [
    {
     "name": "stderr",
     "output_type": "stream",
     "text": [
      "                                                                                \r"
     ]
    },
    {
     "data": {
      "text/plain": [
       "DataFrame[summary: string, order_id: string, order_item_id: string, product_id: string, seller_id: string, shipping_limit_date: string, price: string, freight_value: string]"
      ]
     },
     "execution_count": 83,
     "metadata": {},
     "output_type": "execute_result"
    }
   ],
   "source": [
    "order_items_df.describe()"
   ]
  },
  {
   "cell_type": "code",
   "execution_count": 84,
   "id": "e949b013",
   "metadata": {},
   "outputs": [
    {
     "name": "stdout",
     "output_type": "stream",
     "text": [
      "+--------------------+-------------+--------------------+--------------------+-------------------+------+-------------+\n",
      "|            order_id|order_item_id|          product_id|           seller_id|shipping_limit_date| price|freight_value|\n",
      "+--------------------+-------------+--------------------+--------------------+-------------------+------+-------------+\n",
      "|00010242fe8c5a6d1...|            1|4244733e06e7ecb49...|48436dade18ac8b2b...|2017-09-19 09:45:35| 58.90|        13.29|\n",
      "|00018f77f2f0320c5...|            1|e5f2d52b802189ee6...|dd7ddc04e1b6c2c61...|2017-05-03 11:05:13|239.90|        19.93|\n",
      "|000229ec398224ef6...|            1|c777355d18b72b67a...|5b51032eddd242adc...|2018-01-18 14:48:30|199.00|        17.87|\n",
      "|00024acbcdf0a6daa...|            1|7634da152a4610f15...|9d7a1d34a50524090...|2018-08-15 10:10:18| 12.99|        12.79|\n",
      "|00042b26cf59d7ce6...|            1|ac6c3623068f30de0...|df560393f3a51e745...|2017-02-13 13:57:51|199.90|        18.14|\n",
      "|00048cc3ae777c65d...|            1|ef92defde845ab845...|6426d21aca402a131...|2017-05-23 03:55:27| 21.90|        12.69|\n",
      "|00054e8431b9d7675...|            1|8d4f2bb7e93e6710a...|7040e82f899a04d1b...|2017-12-14 12:10:31| 19.90|        11.85|\n",
      "|000576fe39319847c...|            1|557d850972a7d6f79...|5996cddab893a4652...|2018-07-10 12:30:45|810.00|        70.75|\n",
      "|0005a1a1728c9d785...|            1|310ae3c140ff94b03...|a416b6a846a117243...|2018-03-26 18:31:29|145.95|        11.65|\n",
      "|0005f50442cb953dc...|            1|4535b0e1091c278df...|ba143b05f0110f0dc...|2018-07-06 14:10:56| 53.99|        11.40|\n",
      "|00061f2a7bc09da83...|            1|d63c1011f49d98b97...|cc419e0650a3c5ba7...|2018-03-29 22:28:09| 59.99|         8.88|\n",
      "|00063b381e2406b52...|            1|f177554ea93259a5b...|8602a61d680a10a82...|2018-07-31 17:30:39| 45.00|        12.98|\n",
      "|0006ec9db01a64e59...|            1|99a4788cb24856965...|4a3ca9315b744ce9f...|2018-07-26 17:24:20| 74.00|        23.32|\n",
      "|0008288aa423d2a3f...|            1|368c6c730842d7801...|1f50f920176fa81da...|2018-02-21 02:55:52| 49.90|        13.37|\n",
      "|0008288aa423d2a3f...|            2|368c6c730842d7801...|1f50f920176fa81da...|2018-02-21 02:55:52| 49.90|        13.37|\n",
      "|0009792311464db53...|            1|8cab8abac59158715...|530ec6109d11eaaf8...|2018-08-17 12:15:10| 99.90|        27.65|\n",
      "|0009c9a17f916a706...|            1|3f27ac8e699df3d30...|fcb5ace8bcc92f757...|2018-05-02 09:31:53|639.00|        11.34|\n",
      "|000aed2e25dbad2f9...|            1|4fa33915031a8cde0...|fe2032dab1a61af87...|2018-05-16 20:57:03|144.00|         8.77|\n",
      "|000c3e6612759851c...|            1|b50c950aba0dcead2...|218d46b86c1881d02...|2017-08-21 03:33:13| 99.00|        13.71|\n",
      "|000e562887b1f2006...|            1|5ed9eaf534f6936b5...|8cbac7e12637ed9cf...|2018-02-28 12:08:37| 25.00|        16.11|\n",
      "+--------------------+-------------+--------------------+--------------------+-------------------+------+-------------+\n",
      "only showing top 20 rows\n",
      "\n"
     ]
    }
   ],
   "source": [
    "order_items_df.show()"
   ]
  },
  {
   "cell_type": "code",
   "execution_count": 85,
   "id": "433c7bf9",
   "metadata": {},
   "outputs": [],
   "source": [
    "order_items_df.createOrReplaceTempView(\"temp_order_items\")"
   ]
  },
  {
   "cell_type": "code",
   "execution_count": 87,
   "id": "11f36c91",
   "metadata": {},
   "outputs": [
    {
     "data": {
      "text/html": [
       "<table>\n",
       "    <thead>\n",
       "        <tr>\n",
       "        </tr>\n",
       "    </thead>\n",
       "    <tbody>\n",
       "    </tbody>\n",
       "</table>"
      ],
      "text/plain": [
       "++\n",
       "||\n",
       "++\n",
       "++"
      ]
     },
     "execution_count": 87,
     "metadata": {},
     "output_type": "execute_result"
    }
   ],
   "source": [
    "%%sql\n",
    "\n",
    "CREATE TABLE IF NOT EXISTS bronze.olist_order_items (\n",
    "    order_id string,\n",
    "    order_item_id string,\n",
    "    product_id string,\n",
    "    seller_id string,\n",
    "    shipping_limit_date string,\n",
    "    price string,\n",
    "    freight_value string\n",
    ")\n",
    "USING iceberg;"
   ]
  },
  {
   "cell_type": "code",
   "execution_count": 90,
   "id": "cecb2e10",
   "metadata": {},
   "outputs": [
    {
     "name": "stderr",
     "output_type": "stream",
     "text": [
      "                                                                                \r"
     ]
    },
    {
     "data": {
      "text/html": [
       "<table>\n",
       "    <thead>\n",
       "        <tr>\n",
       "        </tr>\n",
       "    </thead>\n",
       "    <tbody>\n",
       "    </tbody>\n",
       "</table>"
      ],
      "text/plain": [
       "++\n",
       "||\n",
       "++\n",
       "++"
      ]
     },
     "execution_count": 90,
     "metadata": {},
     "output_type": "execute_result"
    }
   ],
   "source": [
    "%%sql\n",
    "MERGE INTO bronze.olist_order_items t\n",
    "USING (\n",
    "    SELECT\n",
    "    order_id,\n",
    "    order_item_id,\n",
    "    product_id,\n",
    "    seller_id,\n",
    "    shipping_limit_date,\n",
    "    price,\n",
    "    freight_value\n",
    "    FROM temp_order_items) s\n",
    "ON t.order_id = s.order_id\n",
    "AND t.order_item_id = s.order_item_id\n",
    "WHEN NOT MATCHED THEN INSERT *"
   ]
  },
  {
   "cell_type": "markdown",
   "id": "c2ce12c0",
   "metadata": {},
   "source": [
    "## Table: Order Payments"
   ]
  },
  {
   "cell_type": "code",
   "execution_count": 91,
   "id": "cc3a4fe1",
   "metadata": {},
   "outputs": [],
   "source": [
    "order_payments_df = (spark\n",
    "     .read\n",
    "     .option(\"header\", \"true\")\n",
    "     .csv(\"/var/lib/ngods/stage/olist/olist_order_payments_dataset.csv\"))"
   ]
  },
  {
   "cell_type": "code",
   "execution_count": 92,
   "id": "d2af2aef",
   "metadata": {},
   "outputs": [],
   "source": [
    "order_payments_df.createOrReplaceTempView(\"temp_order_payments\")"
   ]
  },
  {
   "cell_type": "code",
   "execution_count": 93,
   "id": "d2289dcc",
   "metadata": {},
   "outputs": [
    {
     "name": "stderr",
     "output_type": "stream",
     "text": [
      "                                                                                \r"
     ]
    },
    {
     "data": {
      "text/plain": [
       "DataFrame[summary: string, order_id: string, payment_sequential: string, payment_type: string, payment_installments: string, payment_value: string]"
      ]
     },
     "execution_count": 93,
     "metadata": {},
     "output_type": "execute_result"
    }
   ],
   "source": [
    "order_payments_df.describe()"
   ]
  },
  {
   "cell_type": "code",
   "execution_count": 96,
   "id": "0a0ebcb5",
   "metadata": {},
   "outputs": [
    {
     "data": {
      "text/html": [
       "<table>\n",
       "    <thead>\n",
       "        <tr>\n",
       "        </tr>\n",
       "    </thead>\n",
       "    <tbody>\n",
       "    </tbody>\n",
       "</table>"
      ],
      "text/plain": [
       "++\n",
       "||\n",
       "++\n",
       "++"
      ]
     },
     "execution_count": 96,
     "metadata": {},
     "output_type": "execute_result"
    }
   ],
   "source": [
    "%%sql\n",
    "CREATE TABLE IF NOT EXISTS bronze.olist_order_payments (\n",
    "    order_id string,\n",
    "    payment_sequential string,\n",
    "    payment_type string,\n",
    "    payment_installments string,\n",
    "    payment_value string\n",
    ")\n",
    "USING iceberg;"
   ]
  },
  {
   "cell_type": "code",
   "execution_count": 99,
   "id": "4c275162",
   "metadata": {},
   "outputs": [
    {
     "name": "stderr",
     "output_type": "stream",
     "text": [
      "\r",
      "[Stage 36:=============================>                            (1 + 1) / 2]\r",
      "\r",
      "                                                                                \r"
     ]
    },
    {
     "data": {
      "text/html": [
       "<table>\n",
       "    <thead>\n",
       "        <tr>\n",
       "        </tr>\n",
       "    </thead>\n",
       "    <tbody>\n",
       "    </tbody>\n",
       "</table>"
      ],
      "text/plain": [
       "++\n",
       "||\n",
       "++\n",
       "++"
      ]
     },
     "execution_count": 99,
     "metadata": {},
     "output_type": "execute_result"
    }
   ],
   "source": [
    "%%sql\n",
    "MERGE INTO bronze.olist_order_payments t\n",
    "USING (\n",
    "    SELECT\n",
    "    order_id,\n",
    "    payment_sequential,\n",
    "    payment_type,\n",
    "    payment_installments,\n",
    "    payment_value\n",
    "    FROM temp_order_payments) s\n",
    "ON t.order_id = s.order_id\n",
    "WHEN NOT MATCHED THEN INSERT *"
   ]
  },
  {
   "cell_type": "markdown",
   "id": "60fc9f9e",
   "metadata": {},
   "source": [
    "## Table: Order Reviews"
   ]
  },
  {
   "cell_type": "code",
   "execution_count": 100,
   "id": "eb0e34c8",
   "metadata": {},
   "outputs": [],
   "source": [
    "order_reviews_df = (spark\n",
    "     .read\n",
    "     .option(\"header\", \"true\")\n",
    "     .csv(\"/var/lib/ngods/stage/olist/olist_order_reviews_dataset.csv\"))"
   ]
  },
  {
   "cell_type": "code",
   "execution_count": 101,
   "id": "9836edf6",
   "metadata": {},
   "outputs": [],
   "source": [
    "order_reviews_df.createOrReplaceTempView(\"temp_order_reviews\")"
   ]
  },
  {
   "cell_type": "code",
   "execution_count": 102,
   "id": "27428d91",
   "metadata": {},
   "outputs": [
    {
     "name": "stderr",
     "output_type": "stream",
     "text": [
      "                                                                                \r"
     ]
    },
    {
     "data": {
      "text/plain": [
       "DataFrame[summary: string, review_id: string, order_id: string, review_score: string, review_comment_title: string, review_comment_message: string, review_creation_date: string, review_answer_timestamp: string]"
      ]
     },
     "execution_count": 102,
     "metadata": {},
     "output_type": "execute_result"
    }
   ],
   "source": [
    "order_reviews_df.describe()"
   ]
  },
  {
   "cell_type": "code",
   "execution_count": 103,
   "id": "b3631fe8",
   "metadata": {},
   "outputs": [
    {
     "data": {
      "text/html": [
       "<table>\n",
       "    <thead>\n",
       "        <tr>\n",
       "        </tr>\n",
       "    </thead>\n",
       "    <tbody>\n",
       "    </tbody>\n",
       "</table>"
      ],
      "text/plain": [
       "++\n",
       "||\n",
       "++\n",
       "++"
      ]
     },
     "execution_count": 103,
     "metadata": {},
     "output_type": "execute_result"
    }
   ],
   "source": [
    "%%sql\n",
    "CREATE TABLE IF NOT EXISTS bronze.olist_order_reviews (\n",
    "    review_id string,\n",
    "    order_id string,\n",
    "    review_score string,\n",
    "    review_comment_title string,\n",
    "    review_comment_message string,\n",
    "    review_creation_date string,\n",
    "    review_answer_timestamp string\n",
    ")\n",
    "USING iceberg;"
   ]
  },
  {
   "cell_type": "code",
   "execution_count": 104,
   "id": "53baae96",
   "metadata": {},
   "outputs": [
    {
     "name": "stderr",
     "output_type": "stream",
     "text": [
      "                                                                                \r"
     ]
    },
    {
     "data": {
      "text/html": [
       "<table>\n",
       "    <thead>\n",
       "        <tr>\n",
       "        </tr>\n",
       "    </thead>\n",
       "    <tbody>\n",
       "    </tbody>\n",
       "</table>"
      ],
      "text/plain": [
       "++\n",
       "||\n",
       "++\n",
       "++"
      ]
     },
     "execution_count": 104,
     "metadata": {},
     "output_type": "execute_result"
    }
   ],
   "source": [
    "%%sql\n",
    "MERGE INTO bronze.olist_order_reviews t\n",
    "USING (\n",
    "    SELECT\n",
    "    review_id,\n",
    "    order_id,\n",
    "    review_score,\n",
    "    review_comment_title,\n",
    "    review_comment_message,\n",
    "    review_creation_date,\n",
    "    review_answer_timestamp\n",
    "    FROM temp_order_reviews) s\n",
    "ON t.order_id = s.order_id\n",
    "AND t.review_id = s.review_id\n",
    "WHEN NOT MATCHED THEN INSERT *"
   ]
  },
  {
   "cell_type": "markdown",
   "id": "9b8e0862",
   "metadata": {},
   "source": [
    "## Table: Orders"
   ]
  },
  {
   "cell_type": "code",
   "execution_count": 105,
   "id": "cf15aaef",
   "metadata": {},
   "outputs": [],
   "source": [
    "orders_df = (spark\n",
    "     .read\n",
    "     .option(\"header\", \"true\")\n",
    "     .csv(\"/var/lib/ngods/stage/olist/olist_orders_dataset.csv\"))"
   ]
  },
  {
   "cell_type": "code",
   "execution_count": 111,
   "id": "c1d1d839",
   "metadata": {},
   "outputs": [],
   "source": [
    "orders_df.createOrReplaceTempView(\"temp_orders\")"
   ]
  },
  {
   "cell_type": "code",
   "execution_count": 107,
   "id": "ee1ed7be",
   "metadata": {},
   "outputs": [
    {
     "name": "stderr",
     "output_type": "stream",
     "text": [
      "                                                                                \r"
     ]
    },
    {
     "data": {
      "text/plain": [
       "DataFrame[summary: string, order_id: string, customer_id: string, order_status: string, order_purchase_timestamp: string, order_approved_at: string, order_delivered_carrier_date: string, order_delivered_customer_date: string, order_estimated_delivery_date: string]"
      ]
     },
     "execution_count": 107,
     "metadata": {},
     "output_type": "execute_result"
    }
   ],
   "source": [
    "orders_df.describe()"
   ]
  },
  {
   "cell_type": "code",
   "execution_count": 109,
   "id": "7b9e0452",
   "metadata": {},
   "outputs": [
    {
     "data": {
      "text/html": [
       "<table>\n",
       "    <thead>\n",
       "        <tr>\n",
       "        </tr>\n",
       "    </thead>\n",
       "    <tbody>\n",
       "    </tbody>\n",
       "</table>"
      ],
      "text/plain": [
       "++\n",
       "||\n",
       "++\n",
       "++"
      ]
     },
     "execution_count": 109,
     "metadata": {},
     "output_type": "execute_result"
    }
   ],
   "source": [
    "%%sql\n",
    "CREATE TABLE IF NOT EXISTS bronze.olist_orders (\n",
    "    order_id string,\n",
    "    customer_id string,\n",
    "    order_status string,\n",
    "    order_purchase_timestamp string,\n",
    "    order_approved_at string,\n",
    "    order_delivered_carrier_date string,\n",
    "    order_delivered_customer_date string,\n",
    "    order_estimated_delivery_date string\n",
    ")\n",
    "USING iceberg;"
   ]
  },
  {
   "cell_type": "code",
   "execution_count": 113,
   "id": "47f9069b",
   "metadata": {},
   "outputs": [
    {
     "name": "stderr",
     "output_type": "stream",
     "text": [
      "                                                                                \r"
     ]
    },
    {
     "data": {
      "text/html": [
       "<table>\n",
       "    <thead>\n",
       "        <tr>\n",
       "        </tr>\n",
       "    </thead>\n",
       "    <tbody>\n",
       "    </tbody>\n",
       "</table>"
      ],
      "text/plain": [
       "++\n",
       "||\n",
       "++\n",
       "++"
      ]
     },
     "execution_count": 113,
     "metadata": {},
     "output_type": "execute_result"
    }
   ],
   "source": [
    "%%sql\n",
    "MERGE INTO bronze.olist_orders t\n",
    "USING (\n",
    "    SELECT\n",
    "    order_id,\n",
    "    customer_id,\n",
    "    order_status,\n",
    "    order_purchase_timestamp,\n",
    "    order_approved_at,\n",
    "    order_delivered_carrier_date,\n",
    "    order_delivered_customer_date,\n",
    "    order_estimated_delivery_date\n",
    "    FROM temp_orders) s\n",
    "ON t.order_id = s.order_id\n",
    "WHEN NOT MATCHED THEN INSERT *"
   ]
  },
  {
   "cell_type": "markdown",
   "id": "16fdaf13",
   "metadata": {},
   "source": [
    "## Table: Products"
   ]
  },
  {
   "cell_type": "code",
   "execution_count": 114,
   "id": "ef72bc2c",
   "metadata": {},
   "outputs": [],
   "source": [
    "products_df = (spark\n",
    "     .read\n",
    "     .option(\"header\", \"true\")\n",
    "     .csv(\"/var/lib/ngods/stage/olist/olist_products_dataset.csv\"))"
   ]
  },
  {
   "cell_type": "code",
   "execution_count": 115,
   "id": "2f761e1b",
   "metadata": {},
   "outputs": [],
   "source": [
    "products_df.createOrReplaceTempView(\"temp_products\")"
   ]
  },
  {
   "cell_type": "code",
   "execution_count": 116,
   "id": "f463cfc7",
   "metadata": {},
   "outputs": [
    {
     "name": "stderr",
     "output_type": "stream",
     "text": [
      "                                                                                \r"
     ]
    },
    {
     "data": {
      "text/plain": [
       "DataFrame[summary: string, product_id: string, product_category_name: string, product_name_lenght: string, product_description_lenght: string, product_photos_qty: string, product_weight_g: string, product_length_cm: string, product_height_cm: string, product_width_cm: string]"
      ]
     },
     "execution_count": 116,
     "metadata": {},
     "output_type": "execute_result"
    }
   ],
   "source": [
    "products_df.describe()"
   ]
  },
  {
   "cell_type": "code",
   "execution_count": 118,
   "id": "1ae0f0a9",
   "metadata": {},
   "outputs": [
    {
     "data": {
      "text/html": [
       "<table>\n",
       "    <thead>\n",
       "        <tr>\n",
       "        </tr>\n",
       "    </thead>\n",
       "    <tbody>\n",
       "    </tbody>\n",
       "</table>"
      ],
      "text/plain": [
       "++\n",
       "||\n",
       "++\n",
       "++"
      ]
     },
     "execution_count": 118,
     "metadata": {},
     "output_type": "execute_result"
    }
   ],
   "source": [
    "%%sql\n",
    "CREATE TABLE IF NOT EXISTS bronze.olist_products (\n",
    "    product_id string,\n",
    "    product_category_name string,\n",
    "    product_name_lenght string,\n",
    "    product_description_lenght string,\n",
    "    product_photos_qty string,\n",
    "    product_weight_g string,\n",
    "    product_length_cm string,\n",
    "    product_height_cm string,\n",
    "    product_width_cm string\n",
    ")\n",
    "USING iceberg;"
   ]
  },
  {
   "cell_type": "code",
   "execution_count": 119,
   "id": "10af856f",
   "metadata": {},
   "outputs": [
    {
     "data": {
      "text/html": [
       "<table>\n",
       "    <thead>\n",
       "        <tr>\n",
       "        </tr>\n",
       "    </thead>\n",
       "    <tbody>\n",
       "    </tbody>\n",
       "</table>"
      ],
      "text/plain": [
       "++\n",
       "||\n",
       "++\n",
       "++"
      ]
     },
     "execution_count": 119,
     "metadata": {},
     "output_type": "execute_result"
    }
   ],
   "source": [
    "%%sql\n",
    "MERGE INTO bronze.olist_products t\n",
    "USING (\n",
    "    SELECT\n",
    "    product_id,\n",
    "    product_category_name,\n",
    "    product_name_lenght,\n",
    "    product_description_lenght,\n",
    "    product_photos_qty,\n",
    "    product_weight_g,\n",
    "    product_length_cm,\n",
    "    product_height_cm,\n",
    "    product_width_cm\n",
    "    FROM temp_products) s\n",
    "ON t.product_id = s.product_id\n",
    "WHEN NOT MATCHED THEN INSERT *"
   ]
  },
  {
   "cell_type": "markdown",
   "id": "342d9ccb",
   "metadata": {},
   "source": [
    "## Table: Sellers"
   ]
  },
  {
   "cell_type": "code",
   "execution_count": 124,
   "id": "ace3009e",
   "metadata": {},
   "outputs": [],
   "source": [
    "sellers_df = (spark\n",
    "     .read\n",
    "     .option(\"header\", \"true\")\n",
    "     .csv(\"/var/lib/ngods/stage/olist/olist_sellers_dataset.csv\"))"
   ]
  },
  {
   "cell_type": "code",
   "execution_count": 125,
   "id": "6d716164",
   "metadata": {},
   "outputs": [],
   "source": [
    "sellers_df.createOrReplaceTempView(\"temp_sellers\")"
   ]
  },
  {
   "cell_type": "code",
   "execution_count": 126,
   "id": "2708cfb3",
   "metadata": {},
   "outputs": [
    {
     "data": {
      "text/plain": [
       "DataFrame[summary: string, seller_id: string, seller_zip_code_prefix: string, seller_city: string, seller_state: string]"
      ]
     },
     "execution_count": 126,
     "metadata": {},
     "output_type": "execute_result"
    }
   ],
   "source": [
    "sellers_df.describe()"
   ]
  },
  {
   "cell_type": "code",
   "execution_count": 128,
   "id": "74afa843",
   "metadata": {},
   "outputs": [
    {
     "data": {
      "text/html": [
       "<table>\n",
       "    <thead>\n",
       "        <tr>\n",
       "        </tr>\n",
       "    </thead>\n",
       "    <tbody>\n",
       "    </tbody>\n",
       "</table>"
      ],
      "text/plain": [
       "++\n",
       "||\n",
       "++\n",
       "++"
      ]
     },
     "execution_count": 128,
     "metadata": {},
     "output_type": "execute_result"
    }
   ],
   "source": [
    "%%sql\n",
    "CREATE TABLE IF NOT EXISTS bronze.olist_sellers (\n",
    "    seller_id string,\n",
    "    seller_zip_code_prefix string,\n",
    "    seller_city string,\n",
    "    seller_state string\n",
    ")\n",
    "USING iceberg;"
   ]
  },
  {
   "cell_type": "code",
   "execution_count": 132,
   "id": "2ff2ecb7",
   "metadata": {},
   "outputs": [
    {
     "data": {
      "text/html": [
       "<table>\n",
       "    <thead>\n",
       "        <tr>\n",
       "        </tr>\n",
       "    </thead>\n",
       "    <tbody>\n",
       "    </tbody>\n",
       "</table>"
      ],
      "text/plain": [
       "++\n",
       "||\n",
       "++\n",
       "++"
      ]
     },
     "execution_count": 132,
     "metadata": {},
     "output_type": "execute_result"
    }
   ],
   "source": [
    "%%sql\n",
    "MERGE INTO bronze.olist_sellers t\n",
    "USING (\n",
    "    SELECT\n",
    "    seller_id,\n",
    "    seller_zip_code_prefix,\n",
    "    seller_city,\n",
    "    seller_state\n",
    "    FROM temp_sellers) s\n",
    "ON t.seller_id = s.seller_id\n",
    "WHEN NOT MATCHED THEN INSERT *"
   ]
  },
  {
   "cell_type": "markdown",
   "id": "7b71039a",
   "metadata": {},
   "source": [
    "## Table: Product Category Name Translation"
   ]
  },
  {
   "cell_type": "code",
   "execution_count": 133,
   "id": "1a0329c0",
   "metadata": {},
   "outputs": [],
   "source": [
    "pcnt_df = (spark\n",
    "     .read\n",
    "     .option(\"header\", \"true\")\n",
    "     .csv(\"/var/lib/ngods/stage/olist/product_category_name_translation.csv\"))"
   ]
  },
  {
   "cell_type": "code",
   "execution_count": 134,
   "id": "34b9409e",
   "metadata": {},
   "outputs": [],
   "source": [
    "pcnt_df.createOrReplaceTempView(\"temp_pcnt\")"
   ]
  },
  {
   "cell_type": "code",
   "execution_count": 135,
   "id": "b976d507",
   "metadata": {},
   "outputs": [
    {
     "data": {
      "text/plain": [
       "DataFrame[summary: string, product_category_name: string, product_category_name_english: string]"
      ]
     },
     "execution_count": 135,
     "metadata": {},
     "output_type": "execute_result"
    }
   ],
   "source": [
    "pcnt_df.describe()"
   ]
  },
  {
   "cell_type": "code",
   "execution_count": 136,
   "id": "8a89ec68",
   "metadata": {},
   "outputs": [
    {
     "data": {
      "text/html": [
       "<table>\n",
       "    <thead>\n",
       "        <tr>\n",
       "        </tr>\n",
       "    </thead>\n",
       "    <tbody>\n",
       "    </tbody>\n",
       "</table>"
      ],
      "text/plain": [
       "++\n",
       "||\n",
       "++\n",
       "++"
      ]
     },
     "execution_count": 136,
     "metadata": {},
     "output_type": "execute_result"
    }
   ],
   "source": [
    "%%sql\n",
    "CREATE TABLE IF NOT EXISTS bronze.olist_product_category_name_translation (\n",
    "    product_category_name string,\n",
    "    product_category_name_english string\n",
    ")\n",
    "USING iceberg;"
   ]
  },
  {
   "cell_type": "code",
   "execution_count": 137,
   "id": "83b3b40c",
   "metadata": {},
   "outputs": [
    {
     "data": {
      "text/html": [
       "<table>\n",
       "    <thead>\n",
       "        <tr>\n",
       "        </tr>\n",
       "    </thead>\n",
       "    <tbody>\n",
       "    </tbody>\n",
       "</table>"
      ],
      "text/plain": [
       "++\n",
       "||\n",
       "++\n",
       "++"
      ]
     },
     "execution_count": 137,
     "metadata": {},
     "output_type": "execute_result"
    }
   ],
   "source": [
    "%%sql\n",
    "MERGE INTO bronze.olist_product_category_name_translation t\n",
    "USING (\n",
    "    SELECT\n",
    "    product_category_name,\n",
    "    product_category_name_english\n",
    "    FROM temp_pcnt) s\n",
    "ON t.product_category_name = s.product_category_name\n",
    "WHEN NOT MATCHED THEN INSERT *"
   ]
  },
  {
   "cell_type": "code",
   "execution_count": null,
   "id": "ffb3f0c3",
   "metadata": {},
   "outputs": [],
   "source": []
  }
 ],
 "metadata": {
  "kernelspec": {
   "display_name": "Python 3 (ipykernel)",
   "language": "python",
   "name": "python3"
  },
  "language_info": {
   "codemirror_mode": {
    "name": "ipython",
    "version": 3
   },
   "file_extension": ".py",
   "mimetype": "text/x-python",
   "name": "python",
   "nbconvert_exporter": "python",
   "pygments_lexer": "ipython3",
   "version": "3.9.16"
  }
 },
 "nbformat": 4,
 "nbformat_minor": 5
}
